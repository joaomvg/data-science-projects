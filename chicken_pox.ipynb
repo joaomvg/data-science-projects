{
    "cells": [
        {
            "cell_type": "code",
            "execution_count": 30,
            "source": [
                "import pandas as pd\n",
                "import numpy as np\n",
                "\n",
                "import matplotlib.pyplot as plt\n",
                "import seaborn as sns\n",
                "\n",
                "sns.set()"
            ],
            "outputs": [],
            "metadata": {}
        },
        {
            "cell_type": "code",
            "execution_count": 2,
            "source": [
                "data=pd.read_csv('./HungarianChickenPox/hungary_chickenpox.csv')"
            ],
            "outputs": [],
            "metadata": {}
        },
        {
            "cell_type": "code",
            "execution_count": 14,
            "source": [
                "week_total=data.sum(1)"
            ],
            "outputs": [],
            "metadata": {}
        },
        {
            "cell_type": "code",
            "execution_count": 10,
            "source": [
                "data_county=pd.read_csv('./HungarianChickenPox/hungary_county_edges.csv')"
            ],
            "outputs": [],
            "metadata": {}
        },
        {
            "cell_type": "code",
            "execution_count": 11,
            "source": [
                "data_county"
            ],
            "outputs": [
                {
                    "output_type": "execute_result",
                    "data": {
                        "text/plain": [
                            "       name_1    name_2  id_1  id_2\n",
                            "0        BACS      JASZ     0    10\n",
                            "1        BACS      BACS     0     0\n",
                            "2        BACS   BARANYA     0     1\n",
                            "3        BACS  CSONGRAD     0     5\n",
                            "4        BACS      PEST     0    13\n",
                            "..        ...       ...   ...   ...\n",
                            "97   VESZPREM    SOMOGY    18    14\n",
                            "98       ZALA       VAS    19    17\n",
                            "99       ZALA      ZALA    19    19\n",
                            "100      ZALA    SOMOGY    19    14\n",
                            "101      ZALA  VESZPREM    19    18\n",
                            "\n",
                            "[102 rows x 4 columns]"
                        ],
                        "text/html": [
                            "<div>\n",
                            "<style scoped>\n",
                            "    .dataframe tbody tr th:only-of-type {\n",
                            "        vertical-align: middle;\n",
                            "    }\n",
                            "\n",
                            "    .dataframe tbody tr th {\n",
                            "        vertical-align: top;\n",
                            "    }\n",
                            "\n",
                            "    .dataframe thead th {\n",
                            "        text-align: right;\n",
                            "    }\n",
                            "</style>\n",
                            "<table border=\"1\" class=\"dataframe\">\n",
                            "  <thead>\n",
                            "    <tr style=\"text-align: right;\">\n",
                            "      <th></th>\n",
                            "      <th>name_1</th>\n",
                            "      <th>name_2</th>\n",
                            "      <th>id_1</th>\n",
                            "      <th>id_2</th>\n",
                            "    </tr>\n",
                            "  </thead>\n",
                            "  <tbody>\n",
                            "    <tr>\n",
                            "      <th>0</th>\n",
                            "      <td>BACS</td>\n",
                            "      <td>JASZ</td>\n",
                            "      <td>0</td>\n",
                            "      <td>10</td>\n",
                            "    </tr>\n",
                            "    <tr>\n",
                            "      <th>1</th>\n",
                            "      <td>BACS</td>\n",
                            "      <td>BACS</td>\n",
                            "      <td>0</td>\n",
                            "      <td>0</td>\n",
                            "    </tr>\n",
                            "    <tr>\n",
                            "      <th>2</th>\n",
                            "      <td>BACS</td>\n",
                            "      <td>BARANYA</td>\n",
                            "      <td>0</td>\n",
                            "      <td>1</td>\n",
                            "    </tr>\n",
                            "    <tr>\n",
                            "      <th>3</th>\n",
                            "      <td>BACS</td>\n",
                            "      <td>CSONGRAD</td>\n",
                            "      <td>0</td>\n",
                            "      <td>5</td>\n",
                            "    </tr>\n",
                            "    <tr>\n",
                            "      <th>4</th>\n",
                            "      <td>BACS</td>\n",
                            "      <td>PEST</td>\n",
                            "      <td>0</td>\n",
                            "      <td>13</td>\n",
                            "    </tr>\n",
                            "    <tr>\n",
                            "      <th>...</th>\n",
                            "      <td>...</td>\n",
                            "      <td>...</td>\n",
                            "      <td>...</td>\n",
                            "      <td>...</td>\n",
                            "    </tr>\n",
                            "    <tr>\n",
                            "      <th>97</th>\n",
                            "      <td>VESZPREM</td>\n",
                            "      <td>SOMOGY</td>\n",
                            "      <td>18</td>\n",
                            "      <td>14</td>\n",
                            "    </tr>\n",
                            "    <tr>\n",
                            "      <th>98</th>\n",
                            "      <td>ZALA</td>\n",
                            "      <td>VAS</td>\n",
                            "      <td>19</td>\n",
                            "      <td>17</td>\n",
                            "    </tr>\n",
                            "    <tr>\n",
                            "      <th>99</th>\n",
                            "      <td>ZALA</td>\n",
                            "      <td>ZALA</td>\n",
                            "      <td>19</td>\n",
                            "      <td>19</td>\n",
                            "    </tr>\n",
                            "    <tr>\n",
                            "      <th>100</th>\n",
                            "      <td>ZALA</td>\n",
                            "      <td>SOMOGY</td>\n",
                            "      <td>19</td>\n",
                            "      <td>14</td>\n",
                            "    </tr>\n",
                            "    <tr>\n",
                            "      <th>101</th>\n",
                            "      <td>ZALA</td>\n",
                            "      <td>VESZPREM</td>\n",
                            "      <td>19</td>\n",
                            "      <td>18</td>\n",
                            "    </tr>\n",
                            "  </tbody>\n",
                            "</table>\n",
                            "<p>102 rows × 4 columns</p>\n",
                            "</div>"
                        ]
                    },
                    "metadata": {},
                    "execution_count": 11
                }
            ],
            "metadata": {}
        },
        {
            "cell_type": "code",
            "execution_count": 19,
            "source": [
                "df=pd.DataFrame.from_dict({'a':[1,2,3],'b':[5,6,7]})"
            ],
            "outputs": [],
            "metadata": {}
        },
        {
            "cell_type": "code",
            "execution_count": 26,
            "source": [
                "x=df['a'].copy()"
            ],
            "outputs": [],
            "metadata": {}
        },
        {
            "cell_type": "code",
            "execution_count": 27,
            "source": [
                "x.iloc[0]=21"
            ],
            "outputs": [],
            "metadata": {}
        },
        {
            "cell_type": "code",
            "execution_count": 32,
            "source": [
                "week_total.plot()\n",
                "plt.show()"
            ],
            "outputs": [
                {
                    "output_type": "display_data",
                    "data": {
                        "text/plain": [
                            "<Figure size 432x288 with 1 Axes>"
                        ],
                        "image/png": "[encoded data removed]"
                    },
                    "metadata": {}
                }
            ],
            "metadata": {}
        },
        {
            "cell_type": "code",
            "execution_count": 33,
            "source": [
                "from sklearn.model_selection import train_test_split"
            ],
            "outputs": [],
            "metadata": {}
        },
        {
            "cell_type": "code",
            "execution_count": 45,
            "source": [
                "data=pd.concat([week_total[:-1].reset_index(drop=True),week_total[1:].reset_index(drop=True)],axis=1).rename(columns={0:'x',1:'y'})"
            ],
            "outputs": [],
            "metadata": {}
        },
        {
            "cell_type": "code",
            "execution_count": 46,
            "source": [
                "data"
            ],
            "outputs": [
                {
                    "output_type": "execute_result",
                    "data": {
                        "text/plain": [
                            "        x     y\n",
                            "0    1807  1407\n",
                            "1    1407  1284\n",
                            "2    1284  1255\n",
                            "3    1255  1478\n",
                            "4    1478  1816\n",
                            "..    ...   ...\n",
                            "516   201   608\n",
                            "517   608   536\n",
                            "518   536   286\n",
                            "519   286   299\n",
                            "520   299  1375\n",
                            "\n",
                            "[521 rows x 2 columns]"
                        ],
                        "text/html": [
                            "<div>\n",
                            "<style scoped>\n",
                            "    .dataframe tbody tr th:only-of-type {\n",
                            "        vertical-align: middle;\n",
                            "    }\n",
                            "\n",
                            "    .dataframe tbody tr th {\n",
                            "        vertical-align: top;\n",
                            "    }\n",
                            "\n",
                            "    .dataframe thead th {\n",
                            "        text-align: right;\n",
                            "    }\n",
                            "</style>\n",
                            "<table border=\"1\" class=\"dataframe\">\n",
                            "  <thead>\n",
                            "    <tr style=\"text-align: right;\">\n",
                            "      <th></th>\n",
                            "      <th>x</th>\n",
                            "      <th>y</th>\n",
                            "    </tr>\n",
                            "  </thead>\n",
                            "  <tbody>\n",
                            "    <tr>\n",
                            "      <th>0</th>\n",
                            "      <td>1807</td>\n",
                            "      <td>1407</td>\n",
                            "    </tr>\n",
                            "    <tr>\n",
                            "      <th>1</th>\n",
                            "      <td>1407</td>\n",
                            "      <td>1284</td>\n",
                            "    </tr>\n",
                            "    <tr>\n",
                            "      <th>2</th>\n",
                            "      <td>1284</td>\n",
                            "      <td>1255</td>\n",
                            "    </tr>\n",
                            "    <tr>\n",
                            "      <th>3</th>\n",
                            "      <td>1255</td>\n",
                            "      <td>1478</td>\n",
                            "    </tr>\n",
                            "    <tr>\n",
                            "      <th>4</th>\n",
                            "      <td>1478</td>\n",
                            "      <td>1816</td>\n",
                            "    </tr>\n",
                            "    <tr>\n",
                            "      <th>...</th>\n",
                            "      <td>...</td>\n",
                            "      <td>...</td>\n",
                            "    </tr>\n",
                            "    <tr>\n",
                            "      <th>516</th>\n",
                            "      <td>201</td>\n",
                            "      <td>608</td>\n",
                            "    </tr>\n",
                            "    <tr>\n",
                            "      <th>517</th>\n",
                            "      <td>608</td>\n",
                            "      <td>536</td>\n",
                            "    </tr>\n",
                            "    <tr>\n",
                            "      <th>518</th>\n",
                            "      <td>536</td>\n",
                            "      <td>286</td>\n",
                            "    </tr>\n",
                            "    <tr>\n",
                            "      <th>519</th>\n",
                            "      <td>286</td>\n",
                            "      <td>299</td>\n",
                            "    </tr>\n",
                            "    <tr>\n",
                            "      <th>520</th>\n",
                            "      <td>299</td>\n",
                            "      <td>1375</td>\n",
                            "    </tr>\n",
                            "  </tbody>\n",
                            "</table>\n",
                            "<p>521 rows × 2 columns</p>\n",
                            "</div>"
                        ]
                    },
                    "metadata": {},
                    "execution_count": 46
                }
            ],
            "metadata": {}
        },
        {
            "cell_type": "code",
            "execution_count": 47,
            "source": [
                "from sklearn.ensemble import AdaBoostRegressor"
            ],
            "outputs": [],
            "metadata": {}
        },
        {
            "cell_type": "code",
            "execution_count": 48,
            "source": [
                "l=int(data.shape[0]*0.8)\n",
                "xtrain=data['x'][:l]\n",
                "ytrain=data['y'][:l]\n",
                "\n",
                "xtest=data['x'][l:]\n",
                "ytest=data['y'][l:]"
            ],
            "outputs": [],
            "metadata": {}
        },
        {
            "cell_type": "code",
            "execution_count": 49,
            "source": [
                "ada=AdaBoostRegressor(n_estimators=100)"
            ],
            "outputs": [],
            "metadata": {}
        },
        {
            "cell_type": "code",
            "execution_count": 52,
            "source": [
                "ada.fit(xtrain.values.reshape(-1,1),ytrain)"
            ],
            "outputs": [
                {
                    "output_type": "execute_result",
                    "data": {
                        "text/plain": [
                            "AdaBoostRegressor(n_estimators=100)"
                        ]
                    },
                    "metadata": {},
                    "execution_count": 52
                }
            ],
            "metadata": {}
        },
        {
            "cell_type": "code",
            "execution_count": 54,
            "source": [
                "ada.score(xtest.values.reshape(-1,1),ytest)"
            ],
            "outputs": [
                {
                    "output_type": "execute_result",
                    "data": {
                        "text/plain": [
                            "0.499092191008667"
                        ]
                    },
                    "metadata": {},
                    "execution_count": 54
                }
            ],
            "metadata": {}
        },
        {
            "cell_type": "code",
            "execution_count": 55,
            "source": [
                "ypred=ada.predict(xtest.values.reshape(-1,1))"
            ],
            "outputs": [],
            "metadata": {}
        },
        {
            "cell_type": "code",
            "execution_count": 58,
            "source": [
                "plt.plot(ytest.values)\n",
                "plt.plot(ypred)"
            ],
            "outputs": [
                {
                    "output_type": "execute_result",
                    "data": {
                        "text/plain": [
                            "[<matplotlib.lines.Line2D at 0x7fe7b1abc610>]"
                        ]
                    },
                    "metadata": {},
                    "execution_count": 58
                },
                {
                    "output_type": "display_data",
                    "data": {
                        "text/plain": [
                            "<Figure size 432x288 with 1 Axes>"
                        ],
                        "image/png": "[encoded data removed]"
                    },
                    "metadata": {}
                }
            ],
            "metadata": {}
        }
    ],
    "metadata": {
        "orig_nbformat": 4,
        "language_info": {
            "name": "python"
        }
    },
    "nbformat": 4,
    "nbformat_minor": 2
}