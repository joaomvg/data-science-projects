{
    "cells": [
        {
            "cell_type": "code",
            "execution_count": 1,
            "source": [
                "import pandas as pd\n",
                "import numpy as np\n",
                "import re, time\n",
                "from datetime import datetime\n",
                "import matplotlib.pyplot as plt"
            ],
            "outputs": [],
            "metadata": {}
        },
        {
            "cell_type": "code",
            "execution_count": 2,
            "source": [
                "from sklearn.ensemble import RandomForestClassifier\n",
                "from sklearn.decomposition import PCA"
            ],
            "outputs": [],
            "metadata": {}
        },
        {
            "cell_type": "code",
            "execution_count": 3,
            "source": [
                "from sklearn.decomposition import PCA"
            ],
            "outputs": [],
            "metadata": {}
        },
        {
            "cell_type": "code",
            "execution_count": 5,
            "source": [
                "from sklearn.preprocessing import StandardScaler"
            ],
            "outputs": [],
            "metadata": {}
        },
        {
            "cell_type": "markdown",
            "source": [
                "# Data exploration"
            ],
            "metadata": {}
        },
        {
            "cell_type": "code",
            "execution_count": 4,
            "source": [
                "data=pd.read_csv('./all_accelerometer_data_pids_13.csv')"
            ],
            "outputs": [],
            "metadata": {}
        },
        {
            "cell_type": "code",
            "execution_count": 6,
            "source": [
                "data.head()"
            ],
            "outputs": [
                {
                    "output_type": "execute_result",
                    "data": {
                        "text/plain": [
                            "            time     pid       x       y       z\n",
                            "0              0  JB3156  0.0000  0.0000  0.0000\n",
                            "1              0  CC6740  0.0000  0.0000  0.0000\n",
                            "2  1493733882409  SA0297  0.0758  0.0273 -0.0102\n",
                            "3  1493733882455  SA0297 -0.0359  0.0794  0.0037\n",
                            "4  1493733882500  SA0297 -0.2427 -0.0861 -0.0163"
                        ],
                        "text/html": [
                            "<div>\n",
                            "<style scoped>\n",
                            "    .dataframe tbody tr th:only-of-type {\n",
                            "        vertical-align: middle;\n",
                            "    }\n",
                            "\n",
                            "    .dataframe tbody tr th {\n",
                            "        vertical-align: top;\n",
                            "    }\n",
                            "\n",
                            "    .dataframe thead th {\n",
                            "        text-align: right;\n",
                            "    }\n",
                            "</style>\n",
                            "<table border=\"1\" class=\"dataframe\">\n",
                            "  <thead>\n",
                            "    <tr style=\"text-align: right;\">\n",
                            "      <th></th>\n",
                            "      <th>time</th>\n",
                            "      <th>pid</th>\n",
                            "      <th>x</th>\n",
                            "      <th>y</th>\n",
                            "      <th>z</th>\n",
                            "    </tr>\n",
                            "  </thead>\n",
                            "  <tbody>\n",
                            "    <tr>\n",
                            "      <th>0</th>\n",
                            "      <td>0</td>\n",
                            "      <td>JB3156</td>\n",
                            "      <td>0.0000</td>\n",
                            "      <td>0.0000</td>\n",
                            "      <td>0.0000</td>\n",
                            "    </tr>\n",
                            "    <tr>\n",
                            "      <th>1</th>\n",
                            "      <td>0</td>\n",
                            "      <td>CC6740</td>\n",
                            "      <td>0.0000</td>\n",
                            "      <td>0.0000</td>\n",
                            "      <td>0.0000</td>\n",
                            "    </tr>\n",
                            "    <tr>\n",
                            "      <th>2</th>\n",
                            "      <td>1493733882409</td>\n",
                            "      <td>SA0297</td>\n",
                            "      <td>0.0758</td>\n",
                            "      <td>0.0273</td>\n",
                            "      <td>-0.0102</td>\n",
                            "    </tr>\n",
                            "    <tr>\n",
                            "      <th>3</th>\n",
                            "      <td>1493733882455</td>\n",
                            "      <td>SA0297</td>\n",
                            "      <td>-0.0359</td>\n",
                            "      <td>0.0794</td>\n",
                            "      <td>0.0037</td>\n",
                            "    </tr>\n",
                            "    <tr>\n",
                            "      <th>4</th>\n",
                            "      <td>1493733882500</td>\n",
                            "      <td>SA0297</td>\n",
                            "      <td>-0.2427</td>\n",
                            "      <td>-0.0861</td>\n",
                            "      <td>-0.0163</td>\n",
                            "    </tr>\n",
                            "  </tbody>\n",
                            "</table>\n",
                            "</div>"
                        ]
                    },
                    "metadata": {},
                    "execution_count": 6
                }
            ],
            "metadata": {}
        },
        {
            "cell_type": "code",
            "execution_count": 7,
            "source": [
                "data.pid.unique()"
            ],
            "outputs": [
                {
                    "output_type": "execute_result",
                    "data": {
                        "text/plain": [
                            "array(['JB3156', 'CC6740', 'SA0297', 'PC6771', 'BK7610', 'DC6359',\n",
                            "       'MC7070', 'MJ8002', 'BU4707', 'JR8022', 'HV0618', 'SF3079',\n",
                            "       'DK3500'], dtype=object)"
                        ]
                    },
                    "metadata": {},
                    "execution_count": 7
                }
            ],
            "metadata": {}
        },
        {
            "cell_type": "code",
            "execution_count": 11,
            "source": [
                "data.loc[data.pid=='JB3156'].query('time==1493739732016')"
            ],
            "outputs": [
                {
                    "output_type": "execute_result",
                    "data": {
                        "text/plain": [
                            "                 time     pid         x         y          z\n",
                            "541149  1493739732016  JB3156 -2.556815  8.312009  14.090558"
                        ],
                        "text/html": [
                            "<div>\n",
                            "<style scoped>\n",
                            "    .dataframe tbody tr th:only-of-type {\n",
                            "        vertical-align: middle;\n",
                            "    }\n",
                            "\n",
                            "    .dataframe tbody tr th {\n",
                            "        vertical-align: top;\n",
                            "    }\n",
                            "\n",
                            "    .dataframe thead th {\n",
                            "        text-align: right;\n",
                            "    }\n",
                            "</style>\n",
                            "<table border=\"1\" class=\"dataframe\">\n",
                            "  <thead>\n",
                            "    <tr style=\"text-align: right;\">\n",
                            "      <th></th>\n",
                            "      <th>time</th>\n",
                            "      <th>pid</th>\n",
                            "      <th>x</th>\n",
                            "      <th>y</th>\n",
                            "      <th>z</th>\n",
                            "    </tr>\n",
                            "  </thead>\n",
                            "  <tbody>\n",
                            "    <tr>\n",
                            "      <th>541149</th>\n",
                            "      <td>1493739732016</td>\n",
                            "      <td>JB3156</td>\n",
                            "      <td>-2.556815</td>\n",
                            "      <td>8.312009</td>\n",
                            "      <td>14.090558</td>\n",
                            "    </tr>\n",
                            "  </tbody>\n",
                            "</table>\n",
                            "</div>"
                        ]
                    },
                    "metadata": {},
                    "execution_count": 11
                }
            ],
            "metadata": {}
        },
        {
            "cell_type": "code",
            "execution_count": 26,
            "source": [
                "data.time.max()"
            ],
            "outputs": [
                {
                    "output_type": "execute_result",
                    "data": {
                        "text/plain": [
                            "1493829248294"
                        ]
                    },
                    "metadata": {},
                    "execution_count": 26
                }
            ],
            "metadata": {}
        },
        {
            "cell_type": "code",
            "execution_count": 41,
            "source": [
                "df=pd.DataFrame()\n",
                "folder='./clean_tac/'\n",
                "for file in os.listdir('./clean_tac/'):\n",
                "    name=file.split('_clean_TAC.csv')[0]\n",
                "    df_=pd.read_csv(folder+file)\n",
                "    df_['pid']=name\n",
                "    df=pd.concat([df,df_])"
            ],
            "outputs": [],
            "metadata": {}
        },
        {
            "cell_type": "markdown",
            "source": [
                "# Timestamp diversion\n",
                "\n",
                "Timestamp= number of seconds since 1-Jan-1970 00h00,00"
            ],
            "metadata": {}
        },
        {
            "cell_type": "code",
            "execution_count": 62,
            "source": [
                "time_stamp_0=df.timestamp.iloc[0]\n",
                "time_stamp_0"
            ],
            "outputs": [
                {
                    "output_type": "execute_result",
                    "data": {
                        "text/plain": [
                            "1493727820"
                        ]
                    },
                    "metadata": {},
                    "execution_count": 62
                }
            ],
            "metadata": {}
        },
        {
            "cell_type": "code",
            "execution_count": 63,
            "source": [
                "date_0=datetime.fromtimestamp(time_stamp_0)\n",
                "date_0"
            ],
            "outputs": [
                {
                    "output_type": "execute_result",
                    "data": {
                        "text/plain": [
                            "datetime.datetime(2017, 5, 2, 14, 23, 40)"
                        ]
                    },
                    "metadata": {},
                    "execution_count": 63
                }
            ],
            "metadata": {}
        },
        {
            "cell_type": "code",
            "execution_count": 70,
            "source": [
                "date_0.time()"
            ],
            "outputs": [
                {
                    "output_type": "execute_result",
                    "data": {
                        "text/plain": [
                            "datetime.time(14, 23, 40)"
                        ]
                    },
                    "metadata": {},
                    "execution_count": 70
                }
            ],
            "metadata": {}
        },
        {
            "cell_type": "code",
            "execution_count": 75,
            "source": [
                "dt=date_0-datetime(1970,1,1,0,0,0)\n",
                "dt"
            ],
            "outputs": [
                {
                    "output_type": "execute_result",
                    "data": {
                        "text/plain": [
                            "datetime.timedelta(17288, 51820)"
                        ]
                    },
                    "metadata": {},
                    "execution_count": 75
                }
            ],
            "metadata": {}
        },
        {
            "cell_type": "code",
            "execution_count": 76,
            "source": [
                "time.gmtime(time_stamp_0)"
            ],
            "outputs": [
                {
                    "output_type": "execute_result",
                    "data": {
                        "text/plain": [
                            "time.struct_time(tm_year=2017, tm_mon=5, tm_mday=2, tm_hour=12, tm_min=23, tm_sec=40, tm_wday=1, tm_yday=122, tm_isdst=0)"
                        ]
                    },
                    "metadata": {},
                    "execution_count": 76
                }
            ],
            "metadata": {}
        },
        {
            "cell_type": "code",
            "execution_count": 79,
            "source": [
                "dt.days*24*3600+dt.seconds-2*3600==time_stamp_0"
            ],
            "outputs": [
                {
                    "output_type": "execute_result",
                    "data": {
                        "text/plain": [
                            "True"
                        ]
                    },
                    "metadata": {},
                    "execution_count": 79
                }
            ],
            "metadata": {}
        },
        {
            "cell_type": "markdown",
            "source": [
                "# Plotting"
            ],
            "metadata": {}
        },
        {
            "cell_type": "code",
            "execution_count": 80,
            "source": [
                "df.timestamp=df['timestamp'].apply(lambda x: datetime.fromtimestamp(x))"
            ],
            "outputs": [],
            "metadata": {}
        },
        {
            "cell_type": "code",
            "execution_count": 89,
            "source": [
                "df.pid.unique()"
            ],
            "outputs": [
                {
                    "output_type": "execute_result",
                    "data": {
                        "text/plain": [
                            "array(['DK3500', 'JR8022', 'SA0297', 'BU4707', 'HV0618', 'SF3079',\n",
                            "       'MJ8002', 'CC6740', 'PC6771', 'MC7070', 'DC6359', 'BK7610',\n",
                            "       'JB3156'], dtype=object)"
                        ]
                    },
                    "metadata": {},
                    "execution_count": 89
                }
            ],
            "metadata": {}
        },
        {
            "cell_type": "code",
            "execution_count": 93,
            "source": [
                "df[df.pid=='BU4707']['TAC_Reading'].plot()\n",
                "plt.show()"
            ],
            "outputs": [
                {
                    "output_type": "display_data",
                    "data": {
                        "text/plain": [
                            "<Figure size 432x288 with 1 Axes>"
                        ],
                        "image/png": "[encoded data removed]"
                    },
                    "metadata": {}
                }
            ],
            "metadata": {}
        },
        {
            "cell_type": "code",
            "execution_count": 94,
            "source": [
                "df.groupby('pid')['TAC_Reading'].std()"
            ],
            "outputs": [
                {
                    "output_type": "execute_result",
                    "data": {
                        "text/plain": [
                            "pid\n",
                            "BK7610    0.050705\n",
                            "BU4707    0.050705\n",
                            "CC6740    0.077362\n",
                            "DC6359    0.048602\n",
                            "DK3500    0.033744\n",
                            "HV0618    0.050129\n",
                            "JB3156    0.031349\n",
                            "JR8022    0.061737\n",
                            "MC7070    0.069810\n",
                            "MJ8002    0.069967\n",
                            "PC6771    0.028980\n",
                            "SA0297    0.054026\n",
                            "SF3079    0.065088\n",
                            "Name: TAC_Reading, dtype: float64"
                        ]
                    },
                    "metadata": {},
                    "execution_count": 94
                }
            ],
            "metadata": {}
        },
        {
            "cell_type": "code",
            "execution_count": null,
            "source": [],
            "outputs": [],
            "metadata": {}
        }
    ],
    "metadata": {
        "orig_nbformat": 4,
        "language_info": {
            "name": "python"
        }
    },
    "nbformat": 4,
    "nbformat_minor": 2
}