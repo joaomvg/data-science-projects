{
    "cells": [
        {
            "cell_type": "code",
            "execution_count": 2,
            "source": [
                "import pandas as pd\n",
                "import numpy as np\n",
                "\n",
                "import matplotlib.pyplot as plt\n",
                "import seaborn as sns\n",
                "\n",
                "sns.set()"
            ],
            "outputs": [],
            "metadata": {}
        },
        {
            "cell_type": "markdown",
            "source": [
                "# Load Dataset"
            ],
            "metadata": {}
        },
        {
            "cell_type": "code",
            "execution_count": 25,
            "source": [
                "data=pd.read_csv('./HungarianChickenPox/hungary_chickenpox.csv')"
            ],
            "outputs": [],
            "metadata": {}
        },
        {
            "cell_type": "code",
            "execution_count": 4,
            "source": [
                "week_total=data.sum(1)"
            ],
            "outputs": [],
            "metadata": {}
        },
        {
            "cell_type": "code",
            "execution_count": 5,
            "source": [
                "data_county=pd.read_csv('./HungarianChickenPox/hungary_county_edges.csv')"
            ],
            "outputs": [],
            "metadata": {}
        },
        {
            "cell_type": "code",
            "execution_count": 6,
            "source": [
                "data_county"
            ],
            "outputs": [
                {
                    "output_type": "execute_result",
                    "data": {
                        "text/plain": [
                            "       name_1    name_2  id_1  id_2\n",
                            "0        BACS      JASZ     0    10\n",
                            "1        BACS      BACS     0     0\n",
                            "2        BACS   BARANYA     0     1\n",
                            "3        BACS  CSONGRAD     0     5\n",
                            "4        BACS      PEST     0    13\n",
                            "..        ...       ...   ...   ...\n",
                            "97   VESZPREM    SOMOGY    18    14\n",
                            "98       ZALA       VAS    19    17\n",
                            "99       ZALA      ZALA    19    19\n",
                            "100      ZALA    SOMOGY    19    14\n",
                            "101      ZALA  VESZPREM    19    18\n",
                            "\n",
                            "[102 rows x 4 columns]"
                        ],
                        "text/html": [
                            "<div>\n",
                            "<style scoped>\n",
                            "    .dataframe tbody tr th:only-of-type {\n",
                            "        vertical-align: middle;\n",
                            "    }\n",
                            "\n",
                            "    .dataframe tbody tr th {\n",
                            "        vertical-align: top;\n",
                            "    }\n",
                            "\n",
                            "    .dataframe thead th {\n",
                            "        text-align: right;\n",
                            "    }\n",
                            "</style>\n",
                            "<table border=\"1\" class=\"dataframe\">\n",
                            "  <thead>\n",
                            "    <tr style=\"text-align: right;\">\n",
                            "      <th></th>\n",
                            "      <th>name_1</th>\n",
                            "      <th>name_2</th>\n",
                            "      <th>id_1</th>\n",
                            "      <th>id_2</th>\n",
                            "    </tr>\n",
                            "  </thead>\n",
                            "  <tbody>\n",
                            "    <tr>\n",
                            "      <th>0</th>\n",
                            "      <td>BACS</td>\n",
                            "      <td>JASZ</td>\n",
                            "      <td>0</td>\n",
                            "      <td>10</td>\n",
                            "    </tr>\n",
                            "    <tr>\n",
                            "      <th>1</th>\n",
                            "      <td>BACS</td>\n",
                            "      <td>BACS</td>\n",
                            "      <td>0</td>\n",
                            "      <td>0</td>\n",
                            "    </tr>\n",
                            "    <tr>\n",
                            "      <th>2</th>\n",
                            "      <td>BACS</td>\n",
                            "      <td>BARANYA</td>\n",
                            "      <td>0</td>\n",
                            "      <td>1</td>\n",
                            "    </tr>\n",
                            "    <tr>\n",
                            "      <th>3</th>\n",
                            "      <td>BACS</td>\n",
                            "      <td>CSONGRAD</td>\n",
                            "      <td>0</td>\n",
                            "      <td>5</td>\n",
                            "    </tr>\n",
                            "    <tr>\n",
                            "      <th>4</th>\n",
                            "      <td>BACS</td>\n",
                            "      <td>PEST</td>\n",
                            "      <td>0</td>\n",
                            "      <td>13</td>\n",
                            "    </tr>\n",
                            "    <tr>\n",
                            "      <th>...</th>\n",
                            "      <td>...</td>\n",
                            "      <td>...</td>\n",
                            "      <td>...</td>\n",
                            "      <td>...</td>\n",
                            "    </tr>\n",
                            "    <tr>\n",
                            "      <th>97</th>\n",
                            "      <td>VESZPREM</td>\n",
                            "      <td>SOMOGY</td>\n",
                            "      <td>18</td>\n",
                            "      <td>14</td>\n",
                            "    </tr>\n",
                            "    <tr>\n",
                            "      <th>98</th>\n",
                            "      <td>ZALA</td>\n",
                            "      <td>VAS</td>\n",
                            "      <td>19</td>\n",
                            "      <td>17</td>\n",
                            "    </tr>\n",
                            "    <tr>\n",
                            "      <th>99</th>\n",
                            "      <td>ZALA</td>\n",
                            "      <td>ZALA</td>\n",
                            "      <td>19</td>\n",
                            "      <td>19</td>\n",
                            "    </tr>\n",
                            "    <tr>\n",
                            "      <th>100</th>\n",
                            "      <td>ZALA</td>\n",
                            "      <td>SOMOGY</td>\n",
                            "      <td>19</td>\n",
                            "      <td>14</td>\n",
                            "    </tr>\n",
                            "    <tr>\n",
                            "      <th>101</th>\n",
                            "      <td>ZALA</td>\n",
                            "      <td>VESZPREM</td>\n",
                            "      <td>19</td>\n",
                            "      <td>18</td>\n",
                            "    </tr>\n",
                            "  </tbody>\n",
                            "</table>\n",
                            "<p>102 rows × 4 columns</p>\n",
                            "</div>"
                        ]
                    },
                    "metadata": {},
                    "execution_count": 6
                }
            ],
            "metadata": {}
        },
        {
            "cell_type": "code",
            "execution_count": 7,
            "source": [
                "week_total.plot()\n",
                "plt.show()"
            ],
            "outputs": [
                {
                    "output_type": "display_data",
                    "data": {
                        "text/plain": [
                            "<Figure size 432x288 with 1 Axes>"
                        ],
                        "image/png": "[encoded data removed]"
                    },
                    "metadata": {}
                }
            ],
            "metadata": {}
        },
        {
            "cell_type": "markdown",
            "source": [
                "# Predict week total"
            ],
            "metadata": {}
        },
        {
            "cell_type": "code",
            "execution_count": 14,
            "source": [
                "from sklearn.model_selection import train_test_split\n",
                "from sklearn.ensemble import AdaBoostRegressor"
            ],
            "outputs": [],
            "metadata": {}
        },
        {
            "cell_type": "code",
            "execution_count": 10,
            "source": [
                "data_ml=pd.concat([week_total[:-1].reset_index(drop=True),week_total[1:].reset_index(drop=True)],axis=1).rename(columns={0:'x',1:'y'})"
            ],
            "outputs": [],
            "metadata": {}
        },
        {
            "cell_type": "code",
            "execution_count": 11,
            "source": [
                "data_ml"
            ],
            "outputs": [
                {
                    "output_type": "execute_result",
                    "data": {
                        "text/plain": [
                            "        x     y\n",
                            "0    1807  1407\n",
                            "1    1407  1284\n",
                            "2    1284  1255\n",
                            "3    1255  1478\n",
                            "4    1478  1816\n",
                            "..    ...   ...\n",
                            "516   201   608\n",
                            "517   608   536\n",
                            "518   536   286\n",
                            "519   286   299\n",
                            "520   299  1375\n",
                            "\n",
                            "[521 rows x 2 columns]"
                        ],
                        "text/html": [
                            "<div>\n",
                            "<style scoped>\n",
                            "    .dataframe tbody tr th:only-of-type {\n",
                            "        vertical-align: middle;\n",
                            "    }\n",
                            "\n",
                            "    .dataframe tbody tr th {\n",
                            "        vertical-align: top;\n",
                            "    }\n",
                            "\n",
                            "    .dataframe thead th {\n",
                            "        text-align: right;\n",
                            "    }\n",
                            "</style>\n",
                            "<table border=\"1\" class=\"dataframe\">\n",
                            "  <thead>\n",
                            "    <tr style=\"text-align: right;\">\n",
                            "      <th></th>\n",
                            "      <th>x</th>\n",
                            "      <th>y</th>\n",
                            "    </tr>\n",
                            "  </thead>\n",
                            "  <tbody>\n",
                            "    <tr>\n",
                            "      <th>0</th>\n",
                            "      <td>1807</td>\n",
                            "      <td>1407</td>\n",
                            "    </tr>\n",
                            "    <tr>\n",
                            "      <th>1</th>\n",
                            "      <td>1407</td>\n",
                            "      <td>1284</td>\n",
                            "    </tr>\n",
                            "    <tr>\n",
                            "      <th>2</th>\n",
                            "      <td>1284</td>\n",
                            "      <td>1255</td>\n",
                            "    </tr>\n",
                            "    <tr>\n",
                            "      <th>3</th>\n",
                            "      <td>1255</td>\n",
                            "      <td>1478</td>\n",
                            "    </tr>\n",
                            "    <tr>\n",
                            "      <th>4</th>\n",
                            "      <td>1478</td>\n",
                            "      <td>1816</td>\n",
                            "    </tr>\n",
                            "    <tr>\n",
                            "      <th>...</th>\n",
                            "      <td>...</td>\n",
                            "      <td>...</td>\n",
                            "    </tr>\n",
                            "    <tr>\n",
                            "      <th>516</th>\n",
                            "      <td>201</td>\n",
                            "      <td>608</td>\n",
                            "    </tr>\n",
                            "    <tr>\n",
                            "      <th>517</th>\n",
                            "      <td>608</td>\n",
                            "      <td>536</td>\n",
                            "    </tr>\n",
                            "    <tr>\n",
                            "      <th>518</th>\n",
                            "      <td>536</td>\n",
                            "      <td>286</td>\n",
                            "    </tr>\n",
                            "    <tr>\n",
                            "      <th>519</th>\n",
                            "      <td>286</td>\n",
                            "      <td>299</td>\n",
                            "    </tr>\n",
                            "    <tr>\n",
                            "      <th>520</th>\n",
                            "      <td>299</td>\n",
                            "      <td>1375</td>\n",
                            "    </tr>\n",
                            "  </tbody>\n",
                            "</table>\n",
                            "<p>521 rows × 2 columns</p>\n",
                            "</div>"
                        ]
                    },
                    "metadata": {},
                    "execution_count": 11
                }
            ],
            "metadata": {}
        },
        {
            "cell_type": "code",
            "execution_count": 12,
            "source": [
                "l=int(data_ml.shape[0]*0.8)\n",
                "xtrain=data_ml['x'][:l]\n",
                "ytrain=data_ml['y'][:l]\n",
                "\n",
                "xtest=data_ml['x'][l:]\n",
                "ytest=data_ml['y'][l:]"
            ],
            "outputs": [],
            "metadata": {}
        },
        {
            "cell_type": "code",
            "execution_count": 15,
            "source": [
                "ada=AdaBoostRegressor(n_estimators=100)"
            ],
            "outputs": [],
            "metadata": {}
        },
        {
            "cell_type": "code",
            "execution_count": 16,
            "source": [
                "ada.fit(xtrain.values.reshape(-1,1),ytrain)"
            ],
            "outputs": [
                {
                    "output_type": "execute_result",
                    "data": {
                        "text/plain": [
                            "AdaBoostRegressor(n_estimators=100)"
                        ]
                    },
                    "metadata": {},
                    "execution_count": 16
                }
            ],
            "metadata": {}
        },
        {
            "cell_type": "code",
            "execution_count": 17,
            "source": [
                "ada.score(xtest.values.reshape(-1,1),ytest)"
            ],
            "outputs": [
                {
                    "output_type": "execute_result",
                    "data": {
                        "text/plain": [
                            "0.5196593176401699"
                        ]
                    },
                    "metadata": {},
                    "execution_count": 17
                }
            ],
            "metadata": {}
        },
        {
            "cell_type": "code",
            "execution_count": 18,
            "source": [
                "ypred=ada.predict(xtest.values.reshape(-1,1))"
            ],
            "outputs": [],
            "metadata": {}
        },
        {
            "cell_type": "code",
            "execution_count": 23,
            "source": [
                "plt.plot(ytest.values)\n",
                "plt.plot(ypred)\n",
                "plt.legend(['test','prediction'])\n",
                "plt.show()"
            ],
            "outputs": [
                {
                    "output_type": "display_data",
                    "data": {
                        "text/plain": [
                            "<Figure size 432x288 with 1 Axes>"
                        ],
                        "image/png": "[encoded data removed]"
                    },
                    "metadata": {}
                }
            ],
            "metadata": {}
        },
        {
            "cell_type": "markdown",
            "source": [
                "# City level"
            ],
            "metadata": {}
        },
        {
            "cell_type": "code",
            "execution_count": 29,
            "source": [
                "data.head()"
            ],
            "outputs": [
                {
                    "output_type": "execute_result",
                    "data": {
                        "text/plain": [
                            "         Date  BUDAPEST  BARANYA  BACS  BEKES  BORSOD  CSONGRAD  FEJER  GYOR  \\\n",
                            "0  03/01/2005       168       79    30    173     169        42    136   120   \n",
                            "1  10/01/2005       157       60    30     92     200        53     51    70   \n",
                            "2  17/01/2005        96       44    31     86      93        30     93    84   \n",
                            "3  24/01/2005       163       49    43    126      46        39     52   114   \n",
                            "4  31/01/2005       122       78    53     87     103        34     95   131   \n",
                            "\n",
                            "   HAJDU  ...  JASZ  KOMAROM  NOGRAD  PEST  SOMOGY  SZABOLCS  TOLNA  VAS  \\\n",
                            "0    162  ...   130       57       2   178      66        64     11   29   \n",
                            "1     84  ...    80       50      29   141      48        29     58   53   \n",
                            "2    191  ...    64       46       4   157      33        33     24   18   \n",
                            "3    107  ...    63       54      14   107      66        50     25   21   \n",
                            "4    172  ...    61       49      11   124      63        56      7   47   \n",
                            "\n",
                            "   VESZPREM  ZALA  \n",
                            "0        87    68  \n",
                            "1        68    26  \n",
                            "2        62    44  \n",
                            "3        43    31  \n",
                            "4        85    60  \n",
                            "\n",
                            "[5 rows x 21 columns]"
                        ],
                        "text/html": [
                            "<div>\n",
                            "<style scoped>\n",
                            "    .dataframe tbody tr th:only-of-type {\n",
                            "        vertical-align: middle;\n",
                            "    }\n",
                            "\n",
                            "    .dataframe tbody tr th {\n",
                            "        vertical-align: top;\n",
                            "    }\n",
                            "\n",
                            "    .dataframe thead th {\n",
                            "        text-align: right;\n",
                            "    }\n",
                            "</style>\n",
                            "<table border=\"1\" class=\"dataframe\">\n",
                            "  <thead>\n",
                            "    <tr style=\"text-align: right;\">\n",
                            "      <th></th>\n",
                            "      <th>Date</th>\n",
                            "      <th>BUDAPEST</th>\n",
                            "      <th>BARANYA</th>\n",
                            "      <th>BACS</th>\n",
                            "      <th>BEKES</th>\n",
                            "      <th>BORSOD</th>\n",
                            "      <th>CSONGRAD</th>\n",
                            "      <th>FEJER</th>\n",
                            "      <th>GYOR</th>\n",
                            "      <th>HAJDU</th>\n",
                            "      <th>...</th>\n",
                            "      <th>JASZ</th>\n",
                            "      <th>KOMAROM</th>\n",
                            "      <th>NOGRAD</th>\n",
                            "      <th>PEST</th>\n",
                            "      <th>SOMOGY</th>\n",
                            "      <th>SZABOLCS</th>\n",
                            "      <th>TOLNA</th>\n",
                            "      <th>VAS</th>\n",
                            "      <th>VESZPREM</th>\n",
                            "      <th>ZALA</th>\n",
                            "    </tr>\n",
                            "  </thead>\n",
                            "  <tbody>\n",
                            "    <tr>\n",
                            "      <th>0</th>\n",
                            "      <td>03/01/2005</td>\n",
                            "      <td>168</td>\n",
                            "      <td>79</td>\n",
                            "      <td>30</td>\n",
                            "      <td>173</td>\n",
                            "      <td>169</td>\n",
                            "      <td>42</td>\n",
                            "      <td>136</td>\n",
                            "      <td>120</td>\n",
                            "      <td>162</td>\n",
                            "      <td>...</td>\n",
                            "      <td>130</td>\n",
                            "      <td>57</td>\n",
                            "      <td>2</td>\n",
                            "      <td>178</td>\n",
                            "      <td>66</td>\n",
                            "      <td>64</td>\n",
                            "      <td>11</td>\n",
                            "      <td>29</td>\n",
                            "      <td>87</td>\n",
                            "      <td>68</td>\n",
                            "    </tr>\n",
                            "    <tr>\n",
                            "      <th>1</th>\n",
                            "      <td>10/01/2005</td>\n",
                            "      <td>157</td>\n",
                            "      <td>60</td>\n",
                            "      <td>30</td>\n",
                            "      <td>92</td>\n",
                            "      <td>200</td>\n",
                            "      <td>53</td>\n",
                            "      <td>51</td>\n",
                            "      <td>70</td>\n",
                            "      <td>84</td>\n",
                            "      <td>...</td>\n",
                            "      <td>80</td>\n",
                            "      <td>50</td>\n",
                            "      <td>29</td>\n",
                            "      <td>141</td>\n",
                            "      <td>48</td>\n",
                            "      <td>29</td>\n",
                            "      <td>58</td>\n",
                            "      <td>53</td>\n",
                            "      <td>68</td>\n",
                            "      <td>26</td>\n",
                            "    </tr>\n",
                            "    <tr>\n",
                            "      <th>2</th>\n",
                            "      <td>17/01/2005</td>\n",
                            "      <td>96</td>\n",
                            "      <td>44</td>\n",
                            "      <td>31</td>\n",
                            "      <td>86</td>\n",
                            "      <td>93</td>\n",
                            "      <td>30</td>\n",
                            "      <td>93</td>\n",
                            "      <td>84</td>\n",
                            "      <td>191</td>\n",
                            "      <td>...</td>\n",
                            "      <td>64</td>\n",
                            "      <td>46</td>\n",
                            "      <td>4</td>\n",
                            "      <td>157</td>\n",
                            "      <td>33</td>\n",
                            "      <td>33</td>\n",
                            "      <td>24</td>\n",
                            "      <td>18</td>\n",
                            "      <td>62</td>\n",
                            "      <td>44</td>\n",
                            "    </tr>\n",
                            "    <tr>\n",
                            "      <th>3</th>\n",
                            "      <td>24/01/2005</td>\n",
                            "      <td>163</td>\n",
                            "      <td>49</td>\n",
                            "      <td>43</td>\n",
                            "      <td>126</td>\n",
                            "      <td>46</td>\n",
                            "      <td>39</td>\n",
                            "      <td>52</td>\n",
                            "      <td>114</td>\n",
                            "      <td>107</td>\n",
                            "      <td>...</td>\n",
                            "      <td>63</td>\n",
                            "      <td>54</td>\n",
                            "      <td>14</td>\n",
                            "      <td>107</td>\n",
                            "      <td>66</td>\n",
                            "      <td>50</td>\n",
                            "      <td>25</td>\n",
                            "      <td>21</td>\n",
                            "      <td>43</td>\n",
                            "      <td>31</td>\n",
                            "    </tr>\n",
                            "    <tr>\n",
                            "      <th>4</th>\n",
                            "      <td>31/01/2005</td>\n",
                            "      <td>122</td>\n",
                            "      <td>78</td>\n",
                            "      <td>53</td>\n",
                            "      <td>87</td>\n",
                            "      <td>103</td>\n",
                            "      <td>34</td>\n",
                            "      <td>95</td>\n",
                            "      <td>131</td>\n",
                            "      <td>172</td>\n",
                            "      <td>...</td>\n",
                            "      <td>61</td>\n",
                            "      <td>49</td>\n",
                            "      <td>11</td>\n",
                            "      <td>124</td>\n",
                            "      <td>63</td>\n",
                            "      <td>56</td>\n",
                            "      <td>7</td>\n",
                            "      <td>47</td>\n",
                            "      <td>85</td>\n",
                            "      <td>60</td>\n",
                            "    </tr>\n",
                            "  </tbody>\n",
                            "</table>\n",
                            "<p>5 rows × 21 columns</p>\n",
                            "</div>"
                        ]
                    },
                    "metadata": {},
                    "execution_count": 29
                }
            ],
            "metadata": {}
        },
        {
            "cell_type": "code",
            "execution_count": 59,
            "source": [
                "data_ml=data['BARANYA'][:-1]\n",
                "y_budapest=data['BARANYA'][1:]"
            ],
            "outputs": [],
            "metadata": {}
        },
        {
            "cell_type": "code",
            "execution_count": 54,
            "source": [
                "data_ml.drop('Date',1,inplace=True)"
            ],
            "outputs": [
                {
                    "output_type": "stream",
                    "name": "stderr",
                    "text": [
                        "/Users/JoaoGomes/anaconda3/envs/python3.8/lib/python3.7/site-packages/pandas/core/frame.py:4312: SettingWithCopyWarning: \n",
                        "A value is trying to be set on a copy of a slice from a DataFrame\n",
                        "\n",
                        "See the caveats in the documentation: https://pandas.pydata.org/pandas-docs/stable/user_guide/indexing.html#returning-a-view-versus-a-copy\n",
                        "  errors=errors,\n"
                    ]
                }
            ],
            "metadata": {}
        },
        {
            "cell_type": "code",
            "execution_count": 96,
            "source": [
                "l=int(data_ml.shape[0]*0.8)\n",
                "xtrain=data_ml[:l].rolling(window=2).mean()[1:]\n",
                "ytrain=y_budapest[:l].rolling(window=2).mean()[1:]\n",
                "\n",
                "xtest=data_ml[l:].rolling(window=2).mean()[1:]\n",
                "ytest=y_budapest[l:].rolling(window=2).mean()[1:]"
            ],
            "outputs": [],
            "metadata": {}
        },
        {
            "cell_type": "code",
            "execution_count": 97,
            "source": [
                "ada=AdaBoostRegressor(n_estimators=200)"
            ],
            "outputs": [],
            "metadata": {}
        },
        {
            "cell_type": "code",
            "execution_count": 98,
            "source": [
                "ada.fit(xtrain.values.reshape(-1,1),ytrain)"
            ],
            "outputs": [
                {
                    "output_type": "execute_result",
                    "data": {
                        "text/plain": [
                            "AdaBoostRegressor(n_estimators=200)"
                        ]
                    },
                    "metadata": {},
                    "execution_count": 98
                }
            ],
            "metadata": {}
        },
        {
            "cell_type": "code",
            "execution_count": 99,
            "source": [
                "ypred=ada.predict(xtest.values.reshape(-1,1))"
            ],
            "outputs": [],
            "metadata": {}
        },
        {
            "cell_type": "code",
            "execution_count": 100,
            "source": [
                "plt.plot(ytest.values)\n",
                "plt.plot(ypred)\n",
                "plt.legend(['test','prediction'])\n",
                "plt.show()"
            ],
            "outputs": [
                {
                    "output_type": "display_data",
                    "data": {
                        "text/plain": [
                            "<Figure size 432x288 with 1 Axes>"
                        ],
                        "image/png": "[encoded data removed]"
                    },
                    "metadata": {}
                }
            ],
            "metadata": {}
        },
        {
            "cell_type": "code",
            "execution_count": 101,
            "source": [
                "ada.feature_importances_"
            ],
            "outputs": [
                {
                    "output_type": "execute_result",
                    "data": {
                        "text/plain": [
                            "array([1.])"
                        ]
                    },
                    "metadata": {},
                    "execution_count": 101
                }
            ],
            "metadata": {}
        }
    ],
    "metadata": {
        "orig_nbformat": 4,
        "language_info": {
            "name": "python"
        }
    },
    "nbformat": 4,
    "nbformat_minor": 2
}