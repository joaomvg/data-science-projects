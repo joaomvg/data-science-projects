{
    "cells": [
        {
            "cell_type": "code",
            "execution_count": 95,
            "source": [
                "import numpy as np\n",
                "import pandas as pd\n",
                "\n",
                "from sklearn.ensemble import AdaBoostClassifier, RandomForestClassifier, GradientBoostingClassifier\n",
                "from sklearn.tree import DecisionTreeClassifier\n",
                "from sklearn.model_selection import train_test_split\n",
                "from sklearn.linear_model import LogisticRegression\n",
                "from sklearn.decomposition import PCA\n",
                "from sklearn.preprocessing import StandardScaler\n",
                "\n",
                "from sklearn.metrics import confusion_matrix"
            ],
            "outputs": [],
            "metadata": {}
        },
        {
            "cell_type": "markdown",
            "source": [
                "# Load Data and exploration"
            ],
            "metadata": {}
        },
        {
            "cell_type": "code",
            "execution_count": 2,
            "source": [
                "data=pd.read_excel('./DryBeanDataset/Dry_Bean_Dataset.xlsx')"
            ],
            "outputs": [],
            "metadata": {}
        },
        {
            "cell_type": "code",
            "execution_count": 4,
            "source": [
                "data.info()"
            ],
            "outputs": [
                {
                    "output_type": "stream",
                    "name": "stdout",
                    "text": [
                        "<class 'pandas.core.frame.DataFrame'>\n",
                        "RangeIndex: 13611 entries, 0 to 13610\n",
                        "Data columns (total 17 columns):\n",
                        "Area               13611 non-null int64\n",
                        "Perimeter          13611 non-null float64\n",
                        "MajorAxisLength    13611 non-null float64\n",
                        "MinorAxisLength    13611 non-null float64\n",
                        "AspectRation       13611 non-null float64\n",
                        "Eccentricity       13611 non-null float64\n",
                        "ConvexArea         13611 non-null int64\n",
                        "EquivDiameter      13611 non-null float64\n",
                        "Extent             13611 non-null float64\n",
                        "Solidity           13611 non-null float64\n",
                        "roundness          13611 non-null float64\n",
                        "Compactness        13611 non-null float64\n",
                        "ShapeFactor1       13611 non-null float64\n",
                        "ShapeFactor2       13611 non-null float64\n",
                        "ShapeFactor3       13611 non-null float64\n",
                        "ShapeFactor4       13611 non-null float64\n",
                        "Class              13611 non-null object\n",
                        "dtypes: float64(14), int64(2), object(1)\n",
                        "memory usage: 1.8+ MB\n"
                    ]
                }
            ],
            "metadata": {}
        },
        {
            "cell_type": "code",
            "execution_count": 51,
            "source": [
                "data.isna().sum()"
            ],
            "outputs": [
                {
                    "output_type": "execute_result",
                    "data": {
                        "text/plain": [
                            "Area               0\n",
                            "Perimeter          0\n",
                            "MajorAxisLength    0\n",
                            "MinorAxisLength    0\n",
                            "AspectRation       0\n",
                            "Eccentricity       0\n",
                            "ConvexArea         0\n",
                            "EquivDiameter      0\n",
                            "Extent             0\n",
                            "Solidity           0\n",
                            "roundness          0\n",
                            "Compactness        0\n",
                            "ShapeFactor1       0\n",
                            "ShapeFactor2       0\n",
                            "ShapeFactor3       0\n",
                            "ShapeFactor4       0\n",
                            "Class              0\n",
                            "dtype: int64"
                        ]
                    },
                    "metadata": {},
                    "execution_count": 51
                }
            ],
            "metadata": {}
        },
        {
            "cell_type": "code",
            "execution_count": 62,
            "source": [
                "type(data.iloc[:,0].iloc[0]).__name__"
            ],
            "outputs": [
                {
                    "output_type": "execute_result",
                    "data": {
                        "text/plain": [
                            "'int64'"
                        ]
                    },
                    "metadata": {},
                    "execution_count": 62
                }
            ],
            "metadata": {}
        },
        {
            "cell_type": "code",
            "execution_count": 63,
            "source": [
                "for col in data:\n",
                "    print(col, type(data[col].iloc[0]).__name__)"
            ],
            "outputs": [
                {
                    "output_type": "stream",
                    "name": "stdout",
                    "text": [
                        "Area int64\n",
                        "Perimeter float64\n",
                        "MajorAxisLength float64\n",
                        "MinorAxisLength float64\n",
                        "AspectRation float64\n",
                        "Eccentricity float64\n",
                        "ConvexArea int64\n",
                        "EquivDiameter float64\n",
                        "Extent float64\n",
                        "Solidity float64\n",
                        "roundness float64\n",
                        "Compactness float64\n",
                        "ShapeFactor1 float64\n",
                        "ShapeFactor2 float64\n",
                        "ShapeFactor3 float64\n",
                        "ShapeFactor4 float64\n",
                        "Class str\n"
                    ]
                }
            ],
            "metadata": {}
        },
        {
            "cell_type": "code",
            "execution_count": 52,
            "source": [
                "Y=data.Class\n",
                "X=data.drop('Class',1)"
            ],
            "outputs": [],
            "metadata": {}
        },
        {
            "cell_type": "code",
            "execution_count": 54,
            "source": [
                "Y.value_counts()/Y.shape[0]*100"
            ],
            "outputs": [
                {
                    "output_type": "execute_result",
                    "data": {
                        "text/plain": [
                            "DERMASON    26.052458\n",
                            "SIRA        19.366689\n",
                            "SEKER       14.892366\n",
                            "HOROZ       14.165014\n",
                            "CALI        11.975608\n",
                            "BARBUNYA     9.712732\n",
                            "BOMBAY       3.835133\n",
                            "Name: Class, dtype: float64"
                        ]
                    },
                    "metadata": {},
                    "execution_count": 54
                }
            ],
            "metadata": {}
        },
        {
            "cell_type": "markdown",
            "source": [
                "# Data preprocessing"
            ],
            "metadata": {}
        },
        {
            "cell_type": "code",
            "execution_count": 64,
            "source": [
                "ss=StandardScaler()\n",
                "X_=ss.fit_transform(X)"
            ],
            "outputs": [],
            "metadata": {}
        },
        {
            "cell_type": "code",
            "execution_count": 65,
            "source": [
                "pca=PCA()\n",
                "X_=pca.fit_transform(X_)"
            ],
            "outputs": [],
            "metadata": {}
        },
        {
            "cell_type": "code",
            "execution_count": 66,
            "source": [
                "xtrain,xtest,ytrain,ytest=train_test_split(X_,Y, test_size=0.2)"
            ],
            "outputs": [],
            "metadata": {}
        },
        {
            "cell_type": "code",
            "execution_count": 67,
            "source": [
                "xtest.shape"
            ],
            "outputs": [
                {
                    "output_type": "execute_result",
                    "data": {
                        "text/plain": [
                            "(2723, 16)"
                        ]
                    },
                    "metadata": {},
                    "execution_count": 67
                }
            ],
            "metadata": {}
        },
        {
            "cell_type": "code",
            "execution_count": 68,
            "source": [
                "xtrain.shape"
            ],
            "outputs": [
                {
                    "output_type": "execute_result",
                    "data": {
                        "text/plain": [
                            "(10888, 16)"
                        ]
                    },
                    "metadata": {},
                    "execution_count": 68
                }
            ],
            "metadata": {}
        },
        {
            "cell_type": "markdown",
            "source": [
                "# Algorithms"
            ],
            "metadata": {}
        },
        {
            "cell_type": "code",
            "execution_count": 82,
            "source": [
                "from sklearn.model_selection import GridSearchCV"
            ],
            "outputs": [],
            "metadata": {}
        },
        {
            "cell_type": "code",
            "execution_count": 78,
            "source": [
                "ada=AdaBoostClassifier(n_estimators=300)\n",
                "lgr=LogisticRegression()"
            ],
            "outputs": [],
            "metadata": {}
        },
        {
            "cell_type": "code",
            "execution_count": 84,
            "source": [
                "param_grid={'n_estimators':[200,300],'max_depth':[5,10,20]}\n",
                "rf=RandomForestClassifier(n_estimators=2,max_depth=15,n_jobs=-1)"
            ],
            "outputs": [],
            "metadata": {}
        },
        {
            "cell_type": "code",
            "execution_count": 85,
            "source": [
                "gridcv=GridSearchCV(estimator=rf,param_grid=param_grid,n_jobs=-1)"
            ],
            "outputs": [],
            "metadata": {}
        },
        {
            "cell_type": "code",
            "execution_count": 86,
            "source": [
                "gridcv.fit(xtrain,ytrain)"
            ],
            "outputs": [
                {
                    "output_type": "execute_result",
                    "data": {
                        "text/plain": [
                            "GridSearchCV(estimator=RandomForestClassifier(max_depth=15, n_estimators=2,\n",
                            "                                              n_jobs=-1),\n",
                            "             n_jobs=-1,\n",
                            "             param_grid={'max_depth': [5, 10, 20], 'n_estimators': [200, 300]})"
                        ]
                    },
                    "metadata": {},
                    "execution_count": 86
                }
            ],
            "metadata": {}
        },
        {
            "cell_type": "code",
            "execution_count": 87,
            "source": [
                "gridcv.score(xtrain,ytrain)"
            ],
            "outputs": [
                {
                    "output_type": "execute_result",
                    "data": {
                        "text/plain": [
                            "0.9985304922850845"
                        ]
                    },
                    "metadata": {},
                    "execution_count": 87
                }
            ],
            "metadata": {}
        },
        {
            "cell_type": "code",
            "execution_count": 88,
            "source": [
                "gridcv.score(xtest,ytest)"
            ],
            "outputs": [
                {
                    "output_type": "execute_result",
                    "data": {
                        "text/plain": [
                            "0.9291222915901579"
                        ]
                    },
                    "metadata": {},
                    "execution_count": 88
                }
            ],
            "metadata": {}
        },
        {
            "cell_type": "code",
            "execution_count": 93,
            "source": [
                "lgr.fit(xtrain,ytrain)"
            ],
            "outputs": [
                {
                    "output_type": "stream",
                    "name": "stderr",
                    "text": [
                        "/Users/JoaoGomes/anaconda3/lib/python3.6/site-packages/sklearn/linear_model/_logistic.py:765: ConvergenceWarning: lbfgs failed to converge (status=1):\n",
                        "STOP: TOTAL NO. of ITERATIONS REACHED LIMIT.\n",
                        "\n",
                        "Increase the number of iterations (max_iter) or scale the data as shown in:\n",
                        "    https://scikit-learn.org/stable/modules/preprocessing.html\n",
                        "Please also refer to the documentation for alternative solver options:\n",
                        "    https://scikit-learn.org/stable/modules/linear_model.html#logistic-regression\n",
                        "  extra_warning_msg=_LOGISTIC_SOLVER_CONVERGENCE_MSG)\n"
                    ]
                },
                {
                    "output_type": "execute_result",
                    "data": {
                        "text/plain": [
                            "LogisticRegression()"
                        ]
                    },
                    "metadata": {},
                    "execution_count": 93
                }
            ],
            "metadata": {}
        },
        {
            "cell_type": "code",
            "execution_count": 94,
            "source": [
                "lgr.score(xtest,ytest)"
            ],
            "outputs": [
                {
                    "output_type": "execute_result",
                    "data": {
                        "text/plain": [
                            "0.9287550495776716"
                        ]
                    },
                    "metadata": {},
                    "execution_count": 94
                }
            ],
            "metadata": {}
        },
        {
            "cell_type": "code",
            "execution_count": 99,
            "source": [
                "lgr.classes_"
            ],
            "outputs": [
                {
                    "output_type": "execute_result",
                    "data": {
                        "text/plain": [
                            "array(['BARBUNYA', 'BOMBAY', 'CALI', 'DERMASON', 'HOROZ', 'SEKER', 'SIRA'],\n",
                            "      dtype=object)"
                        ]
                    },
                    "metadata": {},
                    "execution_count": 99
                }
            ],
            "metadata": {}
        },
        {
            "cell_type": "code",
            "execution_count": 96,
            "source": [
                "ypred=lgr.predict(xtest)"
            ],
            "outputs": [],
            "metadata": {}
        },
        {
            "cell_type": "code",
            "execution_count": 100,
            "source": [
                "confusion_matrix(y_true=ytest,y_pred=ypred,normalize='true').diagonal()"
            ],
            "outputs": [
                {
                    "output_type": "execute_result",
                    "data": {
                        "text/plain": [
                            "array([0.90974729, 1.        , 0.95950156, 0.93304843, 0.956743  ,\n",
                            "       0.95577396, 0.85877863])"
                        ]
                    },
                    "metadata": {},
                    "execution_count": 100
                }
            ],
            "metadata": {}
        }
    ],
    "metadata": {
        "orig_nbformat": 4,
        "language_info": {
            "name": "python"
        }
    },
    "nbformat": 4,
    "nbformat_minor": 2
}