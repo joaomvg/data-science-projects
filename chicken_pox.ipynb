{
    "cells": [
        {
            "cell_type": "code",
            "execution_count": 1,
            "source": [
                "import pandas as pd\n",
                "import numpy as np"
            ],
            "outputs": [],
            "metadata": {}
        },
        {
            "cell_type": "code",
            "execution_count": 2,
            "source": [
                "data=pd.read_csv('./HungarianChickenPox/hungary_chickenpox.csv')"
            ],
            "outputs": [],
            "metadata": {}
        },
        {
            "cell_type": "code",
            "execution_count": 4,
            "source": [
                "data.isna().sum()"
            ],
            "outputs": [
                {
                    "output_type": "execute_result",
                    "data": {
                        "text/plain": [
                            "Date        0\n",
                            "BUDAPEST    0\n",
                            "BARANYA     0\n",
                            "BACS        0\n",
                            "BEKES       0\n",
                            "BORSOD      0\n",
                            "CSONGRAD    0\n",
                            "FEJER       0\n",
                            "GYOR        0\n",
                            "HAJDU       0\n",
                            "HEVES       0\n",
                            "JASZ        0\n",
                            "KOMAROM     0\n",
                            "NOGRAD      0\n",
                            "PEST        0\n",
                            "SOMOGY      0\n",
                            "SZABOLCS    0\n",
                            "TOLNA       0\n",
                            "VAS         0\n",
                            "VESZPREM    0\n",
                            "ZALA        0\n",
                            "dtype: int64"
                        ]
                    },
                    "metadata": {},
                    "execution_count": 4
                }
            ],
            "metadata": {}
        },
        {
            "cell_type": "code",
            "execution_count": 9,
            "source": [
                "data.info()"
            ],
            "outputs": [
                {
                    "output_type": "stream",
                    "name": "stdout",
                    "text": [
                        "<class 'pandas.core.frame.DataFrame'>\n",
                        "RangeIndex: 522 entries, 0 to 521\n",
                        "Data columns (total 21 columns):\n",
                        " #   Column    Non-Null Count  Dtype \n",
                        "---  ------    --------------  ----- \n",
                        " 0   Date      522 non-null    object\n",
                        " 1   BUDAPEST  522 non-null    int64 \n",
                        " 2   BARANYA   522 non-null    int64 \n",
                        " 3   BACS      522 non-null    int64 \n",
                        " 4   BEKES     522 non-null    int64 \n",
                        " 5   BORSOD    522 non-null    int64 \n",
                        " 6   CSONGRAD  522 non-null    int64 \n",
                        " 7   FEJER     522 non-null    int64 \n",
                        " 8   GYOR      522 non-null    int64 \n",
                        " 9   HAJDU     522 non-null    int64 \n",
                        " 10  HEVES     522 non-null    int64 \n",
                        " 11  JASZ      522 non-null    int64 \n",
                        " 12  KOMAROM   522 non-null    int64 \n",
                        " 13  NOGRAD    522 non-null    int64 \n",
                        " 14  PEST      522 non-null    int64 \n",
                        " 15  SOMOGY    522 non-null    int64 \n",
                        " 16  SZABOLCS  522 non-null    int64 \n",
                        " 17  TOLNA     522 non-null    int64 \n",
                        " 18  VAS       522 non-null    int64 \n",
                        " 19  VESZPREM  522 non-null    int64 \n",
                        " 20  ZALA      522 non-null    int64 \n",
                        "dtypes: int64(20), object(1)\n",
                        "memory usage: 85.8+ KB\n"
                    ]
                }
            ],
            "metadata": {}
        }
    ],
    "metadata": {
        "orig_nbformat": 4,
        "language_info": {
            "name": "python"
        }
    },
    "nbformat": 4,
    "nbformat_minor": 2
}